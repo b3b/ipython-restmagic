{
 "cells": [
  {
   "cell_type": "markdown",
   "metadata": {},
   "source": [
    "# Django login form"
   ]
  },
  {
   "cell_type": "code",
   "execution_count": 1,
   "metadata": {},
   "outputs": [
    {
     "name": "stdout",
     "output_type": "stream",
     "text": [
      "Requests defaults are set.\n"
     ]
    }
   ],
   "source": [
    "from bs4 import BeautifulSoup\n",
    "\n",
    "%load_ext restmagic\n",
    "%rest_root http://mezzanine.jupo.org"
   ]
  },
  {
   "cell_type": "markdown",
   "metadata": {},
   "source": [
    "## First attempt to login"
   ]
  },
  {
   "cell_type": "code",
   "execution_count": 2,
   "metadata": {},
   "outputs": [
    {
     "data": {
      "text/html": [
       "<!DOCTYPE html><html lang=\"en\"><head><meta http-equiv=\"content-type\" content=\"text/html; charset=utf-8\"><meta name=\"robots\" content=\"NONE,NOARCHIVE\"><title>403 Forbidden</title><style type=\"text/css\"> html *{padding:0;margin:0}body *{padding:10px 20px}body * *{padding:0}body{font:small sans-serif;background:#eee}body>div{border-bottom:1px solid #ddd}h1{font-weight:normal;margin-bottom:.4em}h1 span{font-size:60%;color:#666;font-weight:normal}#info{background:#f6f6f6}#info ul{margin:0.5em 4em}#info p,#summary p{padding-top:10px}#summary{background:#ffc}#explanation{background:#eee;border-bottom:0px none}</style></head><body><div id=\"summary\"><h1>Forbidden <span>(403)</span></h1><p>CSRF verification failed. Request aborted.</p><p>You are seeing this message because this site requires a CSRF cookie when submitting forms. This cookie is required for security reasons, to ensure that your browser is not being hijacked by third parties.</p><p>If you have configured your browser to disable cookies, please re-enable them, at least for this site, or for &#39;same-origin&#39; requests.</p></div><div id=\"explanation\"><p><small>More information is available with DEBUG=True.</small></p></div></body></html>"
      ],
      "text/plain": [
       "<IPython.core.display.HTML object>"
      ]
     },
     "metadata": {},
     "output_type": "display_data"
    },
    {
     "data": {
      "text/plain": [
       "<Response [403]>"
      ]
     },
     "execution_count": 2,
     "metadata": {},
     "output_type": "execute_result"
    }
   ],
   "source": [
    "%%rest\n",
    "POST /en/admin/login/?next=/en/admin/\n",
    "Content-Type: application/x-www-form-urlencoded\n",
    "\n",
    "username=demo&password=demo"
   ]
  },
  {
   "cell_type": "markdown",
   "metadata": {},
   "source": [
    "### Enable cookies"
   ]
  },
  {
   "cell_type": "code",
   "execution_count": 3,
   "metadata": {},
   "outputs": [
    {
     "name": "stdout",
     "output_type": "stream",
     "text": [
      "New session started.\n"
     ]
    }
   ],
   "source": [
    "%rest_session"
   ]
  },
  {
   "cell_type": "markdown",
   "metadata": {
    "hideCode": true
   },
   "source": [
    "### Get the login page, this will set session CSRF cookie"
   ]
  },
  {
   "cell_type": "code",
   "execution_count": 4,
   "metadata": {},
   "outputs": [],
   "source": [
    "r = %rest -q /en/admin/login/"
   ]
  },
  {
   "cell_type": "markdown",
   "metadata": {
    "hideCode": true
   },
   "source": [
    "### Still can't login, need a CSRF token"
   ]
  },
  {
   "cell_type": "code",
   "execution_count": 5,
   "metadata": {},
   "outputs": [
    {
     "data": {
      "text/html": [
       "<!DOCTYPE html><html lang=\"en\"><head><meta http-equiv=\"content-type\" content=\"text/html; charset=utf-8\"><meta name=\"robots\" content=\"NONE,NOARCHIVE\"><title>403 Forbidden</title><style type=\"text/css\"> html *{padding:0;margin:0}body *{padding:10px 20px}body * *{padding:0}body{font:small sans-serif;background:#eee}body>div{border-bottom:1px solid #ddd}h1{font-weight:normal;margin-bottom:.4em}h1 span{font-size:60%;color:#666;font-weight:normal}#info{background:#f6f6f6}#info ul{margin:0.5em 4em}#info p,#summary p{padding-top:10px}#summary{background:#ffc}#explanation{background:#eee;border-bottom:0px none}</style></head><body><div id=\"summary\"><h1>Forbidden <span>(403)</span></h1><p>CSRF verification failed. Request aborted.</p></div><div id=\"explanation\"><p><small>More information is available with DEBUG=True.</small></p></div></body></html>"
      ],
      "text/plain": [
       "<IPython.core.display.HTML object>"
      ]
     },
     "metadata": {},
     "output_type": "display_data"
    },
    {
     "data": {
      "text/plain": [
       "<Response [403]>"
      ]
     },
     "execution_count": 5,
     "metadata": {},
     "output_type": "execute_result"
    }
   ],
   "source": [
    "%%rest\n",
    "POST /en/admin/login/?next=/en/admin/\n",
    "Content-Type: application/x-www-form-urlencoded\n",
    "\n",
    "username=demo&password=demo"
   ]
  },
  {
   "cell_type": "markdown",
   "metadata": {},
   "source": [
    "### CSRF token can be obtained from the cookie"
   ]
  },
  {
   "cell_type": "code",
   "execution_count": 6,
   "metadata": {},
   "outputs": [
    {
     "data": {
      "text/plain": [
       "'4icuKRXGxcXc2TQfvkNPIexpx3QsBZQUH12cJXM46PbJpzSyvwoXmQSrnjP5ASJT'"
      ]
     },
     "execution_count": 6,
     "metadata": {},
     "output_type": "execute_result"
    }
   ],
   "source": [
    "token = r.cookies['csrftoken']\n",
    "token"
   ]
  },
  {
   "cell_type": "markdown",
   "metadata": {},
   "source": [
    "### Login success"
   ]
  },
  {
   "cell_type": "code",
   "execution_count": 7,
   "metadata": {},
   "outputs": [
    {
     "data": {
      "text/plain": [
       "<Response [200]>"
      ]
     },
     "execution_count": 7,
     "metadata": {},
     "output_type": "execute_result"
    }
   ],
   "source": [
    "%%rest -q\n",
    "POST /en/admin/login/?next=/en/admin\n",
    "Content-Type: application/x-www-form-urlencoded\n",
    "\n",
    "username=demo&password=demo&csrfmiddlewaretoken=$token"
   ]
  },
  {
   "cell_type": "markdown",
   "metadata": {},
   "source": [
    "### CSRF token from the HTML form is also works"
   ]
  },
  {
   "cell_type": "code",
   "execution_count": 8,
   "metadata": {},
   "outputs": [
    {
     "name": "stdout",
     "output_type": "stream",
     "text": [
      "Session ended.\n",
      "New session started.\n",
      "Token from the hidden form field: 7oUTX7TishillMqyxUhDkeKvf8YzMsxYQih2LwE11jfJUnH9MaJhnBbVnECsTCf7\n"
     ]
    }
   ],
   "source": [
    "%rest_session\n",
    "r = %rest -q /en/admin/login/\n",
    "soup = BeautifulSoup(r.text)\n",
    "token = soup.find('input', {'name': 'csrfmiddlewaretoken'}).get('value')\n",
    "print(\"Token from the hidden form field: \" + token)"
   ]
  },
  {
   "cell_type": "code",
   "execution_count": 9,
   "metadata": {},
   "outputs": [
    {
     "data": {
      "text/plain": [
       "<Response [200]>"
      ]
     },
     "execution_count": 9,
     "metadata": {},
     "output_type": "execute_result"
    }
   ],
   "source": [
    "%%rest -q\n",
    "POST /en/admin/login/?next=/en/admin\n",
    "Content-Type: application/x-www-form-urlencoded\n",
    "\n",
    "username=demo&password=demo&csrfmiddlewaretoken=$token"
   ]
  }
 ],
 "metadata": {
  "kernelspec": {
   "display_name": "Python 3",
   "language": "python",
   "name": "python3"
  },
  "language_info": {
   "codemirror_mode": {
    "name": "ipython",
    "version": 3
   },
   "file_extension": ".py",
   "mimetype": "text/x-python",
   "name": "python",
   "nbconvert_exporter": "python",
   "pygments_lexer": "ipython3",
   "version": "3.6.5"
  }
 },
 "nbformat": 4,
 "nbformat_minor": 2
}
