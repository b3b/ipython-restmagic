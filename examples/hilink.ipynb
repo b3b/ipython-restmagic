{
 "cells": [
  {
   "cell_type": "markdown",
   "metadata": {},
   "source": [
    "# Sending SMS with HiLink API\n",
    "\n",
    "HiLink API is available for some of 3G/LTE modems and routers.\n",
    "\n",
    "This is example of how it was used on a particular modem, for other devices it will work differently.\n",
    "\n",
    "### Some of the error API endpoints returns:\n",
    "* 100002 -- SYSTEM NO SUPPORT\n",
    "* 100003 -- SYSTEM NO RIGHTS\n",
    "* 100004 -- SYSTEM BUSY\n",
    "* 108001 -- LOGIN USERNAME WRONG\n",
    "* 108002 -- LOGIN PASSWORD WRONG\n",
    "* 108003 -- LOGIN ALREADY LOGIN\n",
    "* 108006 -- LOGIN USERNAME PWD WRONG\n",
    "* 108007 -- LOGIN USERNAME PWD ORERRUN\n",
    "* 120001 -- VOICE BUSY\n",
    "* 125001 -- WRONG TOKEN\n",
    "* 125002 -- WRONG SESSION\n",
    "* 125003 -- WRONG SESSION TOKEN\n"
   ]
  },
  {
   "cell_type": "code",
   "execution_count": 1,
   "metadata": {},
   "outputs": [],
   "source": [
    "import re\n",
    "%load_ext restmagic"
   ]
  },
  {
   "cell_type": "markdown",
   "metadata": {},
   "source": [
    "### Set device address"
   ]
  },
  {
   "cell_type": "code",
   "execution_count": 2,
   "metadata": {},
   "outputs": [
    {
     "name": "stdout",
     "output_type": "stream",
     "text": [
      "Requests defaults are set.\n"
     ]
    }
   ],
   "source": [
    "%rest_root http://192.168.8.1"
   ]
  },
  {
   "cell_type": "markdown",
   "metadata": {},
   "source": [
    "### Start the session. SessionID cookie is required to use device functions"
   ]
  },
  {
   "cell_type": "code",
   "execution_count": 3,
   "metadata": {},
   "outputs": [
    {
     "name": "stdout",
     "output_type": "stream",
     "text": [
      "New session started.\n"
     ]
    },
    {
     "data": {
      "text/plain": [
       "<Response [200]>"
      ]
     },
     "execution_count": 3,
     "metadata": {},
     "output_type": "execute_result"
    }
   ],
   "source": [
    "%rest_session\n",
    "%rest -q /"
   ]
  },
  {
   "cell_type": "markdown",
   "metadata": {},
   "source": [
    "### Get the config"
   ]
  },
  {
   "cell_type": "code",
   "execution_count": 4,
   "metadata": {},
   "outputs": [
    {
     "data": {
      "text/plain": [
       "[u'<login>1</login>']"
      ]
     },
     "execution_count": 4,
     "metadata": {},
     "output_type": "execute_result"
    }
   ],
   "source": [
    "r = %rest -q /config/global/config.xml\n",
    "re.findall(r'^.*login.*$', r.text, re.MULTILINE)"
   ]
  },
  {
   "cell_type": "markdown",
   "metadata": {},
   "source": [
    "### `login == 1` means that login is required to use device functions.\n",
    "### Auth token is required to login, let's get that token first"
   ]
  },
  {
   "cell_type": "code",
   "execution_count": 5,
   "metadata": {},
   "outputs": [
    {
     "name": "stdout",
     "output_type": "stream",
     "text": [
      "< GET /api/webserver/SesTokInfo HTTP/1.1\r\n",
      "< Host: 192.168.8.1\r\n",
      "< Connection: keep-alive\r\n",
      "< Accept-Encoding: gzip, deflate\r\n",
      "< Accept: */*\r\n",
      "< User-Agent: python-requests/2.19.1\r\n",
      "< Cookie: SessionID=1OCMw61lUAc+N8Eiw6DhoD2jYp7y9jy05SLKoiH3m2UfjxWXMCa7+uVRhO3xmJhKe6Ito+m23ofB4Aaj7ORcQZOxzh3trp+VYjSCyStmC9AwYDK/gbtyrKVilRjgj1Hv\r\n",
      "< \r\n",
      "\r\n",
      "> HTTP/1.1 200 OK\r\n",
      "> Date: Thu, 01 Jan 1970 00:00:00 GMT\r\n",
      "> Server: mini_httpd/1.19 19dec2003\r\n",
      "> Connection: keep-alive\r\n",
      "> Keep-Alive: timeout=10, max=100\r\n",
      "> X-Download-Options: noopen\r\n",
      "> X-Frame-Options: deny\r\n",
      "> X-XSS-Protection: 1; mode=block\r\n",
      "> Strict-Transport-Security: max-age=31536000; includeSubdomains\r\n",
      "> Cache-Control: no-cache\r\n",
      "> Content-Type: text/html\r\n",
      "> Content-Length: 277\r\n",
      "> \r\n",
      "<?xml version=\"1.0\" encoding=\"UTF-8\"?>\r\n",
      "<response>\r\n",
      "<SesInfo>SessionID=1OCMw61lUAc+N8Eiw6DhoD2jYp7y9jy05SLKoiH3m2UfjxWXMCa7+uVRhO3xmJhKe6Ito+m23ofB4Aaj7ORcQZOxzh3trp+VYjSCyStmC9AwYDK/gbtyrKVilRjgj1Hv</SesInfo>\r\n",
      "<TokInfo>cXVEAoE1PKWAevq7XvupGewKDEieagYJ</TokInfo>\r\n",
      "</response>\r\n",
      "\n",
      "Token is: cXVEAoE1PKWAevq7XvupGewKDEieagYJ\n"
     ]
    }
   ],
   "source": [
    "r = %rest -v /api/webserver/SesTokInfo\n",
    "token = re.search('<TokInfo>(.*)</TokInfo>', r.text).group(1) \n",
    "print(\"Token is: \" + token)"
   ]
  },
  {
   "cell_type": "markdown",
   "metadata": {},
   "source": [
    "### Login state check"
   ]
  },
  {
   "cell_type": "code",
   "execution_count": 6,
   "metadata": {},
   "outputs": [
    {
     "name": "stdout",
     "output_type": "stream",
     "text": [
      "< GET /api/user/state-login HTTP/1.1\r\n",
      "< Host: 192.168.8.1\r\n",
      "< Connection: keep-alive\r\n",
      "< Accept-Encoding: gzip, deflate\r\n",
      "< Accept: */*\r\n",
      "< User-Agent: python-requests/2.19.1\r\n",
      "< Cookie: SessionID=1OCMw61lUAc+N8Eiw6DhoD2jYp7y9jy05SLKoiH3m2UfjxWXMCa7+uVRhO3xmJhKe6Ito+m23ofB4Aaj7ORcQZOxzh3trp+VYjSCyStmC9AwYDK/gbtyrKVilRjgj1Hv\r\n",
      "< \r\n",
      "\r\n",
      "> HTTP/1.1 200 OK\r\n",
      "> Date: Thu, 01 Jan 1970 00:00:00 GMT\r\n",
      "> Server: mini_httpd/1.19 19dec2003\r\n",
      "> Connection: keep-alive\r\n",
      "> Keep-Alive: timeout=10, max=100\r\n",
      "> X-Download-Options: noopen\r\n",
      "> X-Frame-Options: deny\r\n",
      "> X-XSS-Protection: 1; mode=block\r\n",
      "> Strict-Transport-Security: max-age=31536000; includeSubdomains\r\n",
      "> Cache-Control: no-cache\r\n",
      "> Content-Type: text/html\r\n",
      "> Content-Length: 146\r\n",
      "> \r\n",
      "<?xml version=\"1.0\" encoding=\"UTF-8\"?>\r\n",
      "<response>\r\n",
      "<State>-1</State>\r\n",
      "<Username>admin</Username>\r\n",
      "<password_type>4</password_type>\r\n",
      "</response>\r\n",
      "\n"
     ]
    },
    {
     "data": {
      "text/plain": [
       "<Response [200]>"
      ]
     },
     "execution_count": 6,
     "metadata": {},
     "output_type": "execute_result"
    }
   ],
   "source": [
    "%rest -v /api/user/state-login"
   ]
  },
  {
   "cell_type": "markdown",
   "metadata": {},
   "source": [
    "### `password_type` == 4 means password should be encoded in a weird way"
   ]
  },
  {
   "cell_type": "code",
   "execution_count": 7,
   "metadata": {},
   "outputs": [
    {
     "data": {
      "text/plain": [
       "'MDg3Yjk2OTlmMGFmZDY2ZjZiYTg3OWRlZGY0ZGJlZWM4N2FkNWYzY2RhYmIyYjNmOWQ1NmRjZjc1ZTVjMDU4NA=='"
      ]
     },
     "execution_count": 7,
     "metadata": {},
     "output_type": "execute_result"
    }
   ],
   "source": [
    "import hashlib\n",
    "from base64 import b64encode\n",
    "from binascii import hexlify\n",
    "\n",
    "\n",
    "def sha256(data):\n",
    "    return hexlify(hashlib.sha256(data).digest())\n",
    "\n",
    "\n",
    "def encode_password(name, raw_password, token):\n",
    "    return b64encode(sha256(\n",
    "        name + b64encode(sha256(raw_password)) + token\n",
    "    ))\n",
    "\n",
    "\n",
    "username = 'admin'\n",
    "raw_password = 'admin'\n",
    "password = encode_password(username, raw_password, token)\n",
    "password"
   ]
  },
  {
   "cell_type": "markdown",
   "metadata": {},
   "source": [
    "### Login\n",
    "SessionID in cookie, Token in`__RequestVerificationToken` header, login and password in form fields.\n",
    "\n",
    "Ready to login."
   ]
  },
  {
   "cell_type": "code",
   "execution_count": 8,
   "metadata": {},
   "outputs": [
    {
     "name": "stdout",
     "output_type": "stream",
     "text": [
      "< POST /api/user/login HTTP/1.1\r\n",
      "< Host: 192.168.8.1\r\n",
      "< Connection: keep-alive\r\n",
      "< Accept-Encoding: gzip, deflate\r\n",
      "< Accept: */*\r\n",
      "< User-Agent: python-requests/2.19.1\r\n",
      "< __RequestVerificationToken: cXVEAoE1PKWAevq7XvupGewKDEieagYJ\r\n",
      "< Cookie: SessionID=1OCMw61lUAc+N8Eiw6DhoD2jYp7y9jy05SLKoiH3m2UfjxWXMCa7+uVRhO3xmJhKe6Ito+m23ofB4Aaj7ORcQZOxzh3trp+VYjSCyStmC9AwYDK/gbtyrKVilRjgj1Hv\r\n",
      "< Content-Length: 262\r\n",
      "< \r\n",
      "< <?xml version: \"1.0\" encoding=\"UTF-8\"?>\n",
      "    <request>\n",
      "        <Username>admin</Username>\n",
      "        <Password>MDg3Yjk2OTlmMGFmZDY2ZjZiYTg3OWRlZGY0ZGJlZWM4N2FkNWYzY2RhYmIyYjNmOWQ1NmRjZjc1ZTVjMDU4NA==</Password>\n",
      "        <password_type>4</password_type>\n",
      "    </request>\r\n",
      "> HTTP/1.1 200 OK\r\n",
      "> Date: Thu, 01 Jan 1970 00:00:00 GMT\r\n",
      "> Server: mini_httpd/1.19 19dec2003\r\n",
      "> Connection: close\r\n",
      "> X-Download-Options: noopen\r\n",
      "> X-Frame-Options: deny\r\n",
      "> X-XSS-Protection: 1; mode=block\r\n",
      "> Strict-Transport-Security: max-age=31536000; includeSubdomains\r\n",
      "> Cache-Control: no-cache\r\n",
      "> Content-Type: text/html\r\n",
      "> Content-Length: 61\r\n",
      "> __RequestVerificationTokenone: hg5BM6tps+th5Izq6WDLglLzb0NSRKMh\r\n",
      "> __RequestVerificationTokentwo: 1JZqnOWj3dC6pp+9YB/ncOCJbJXGvpi7\r\n",
      "> __RequestVerificationToken: hg5BM6tps+th5Izq6WDLglLzb0NSRKMh#1JZqnOWj3dC6pp+9YB/ncOCJbJXGvpi7#DQufJyl4wgrGuEQNWmYM8mybypbiKY7g#nrDUvDqHRN+Fs+J+/487ZJbFYZdXMMvk#mrO5AGBmaT6q8M80ZHbLwsF11KEkgGdh#mGQ4eVNVF58yrCQB/a5cyyjqj0AXPdvL#qF28d0Mr4QmxHBbmIc2eYetdiW2NBJFl#pAw9tFNrGdL+k6gmg3Lp4jXeYFPcjcSc#7PGbHrb/kb+LL3BW48TxOsITURgfmt9l#0aaUlDksNku0pWqTYzkbeRnzNQJRsMqz#aENIosKeSTVC3cb89pEg/eVuA8H5h5ZH#YDrs55QSOmPjqc8GRp40t8pmd91JxVxH#GAUAhymo++ADCdl8JVdhOs+HbSQKlFAq#j1iNIqDMboby541Qo3AD9hGIm9vsOXQi#w2heSjgwrNkmaK8GC6U0SF2EVOtyWmLl#9IgCqd8b6PaIac3gxfRrcTJ44maCWcWm#JYib/4oA6MLMLRcUYAVqmYF5AxkJNev3#42a69lbLqT6tU3I5L2HZJyW0tdrhCXYc#/1NWh7e30aKr4xbB3iYEZ8mVKL61IyiK#L/wAKNJOlby/s5F2OefWxwn84/HkLabS#i1bjbub11S1HSeOx/yZThO6isduMjx0o#/85UG65so+49Fz32rWK30G2iKsBidW0Q#2CugWs/KKoKmHXHXjOhY4fzUS1N6yus8#keMr8u/phCa3Q2hRBDJpMbbEpex/05w1#qVoIa5aDThmvZO+SU8oepHFKGTacOokH#CtxWL9LRAUZ2c8DmGc+iIcMaTQvV3uzf#m1R++8ngoAeigdJiDM59dmZ0nf3RNhz1#7h+vC2HrpL0RO13mbY1QfISOG/8e6K9D#JHq2REF+apigGGCVOZ1VpEBftt4Ni6QU#SjIimGQFJmiubdb5D8R7pORrkEB2dY4q#ZkTwMIfDnmQdI+Z6/tequCSpFJMSlUlV#1fIL+GD9mU6wzGrjsEpn1U8j8RS2VoKY#\r\n",
      "> Set-Cookie: SessionID=f7es/vn9NPRJ0ju5eGs7DBiCjiHZQFPTYsoMt9UQCjurky5TP3G+i0LywRaMZ3KG5TFFrQcciILIX3/XuL168NgvYf99xeN8exyxG0ODQBZGXudrjr2wk6tX+oEeeO2w;path =/;HttpOnly;\r\n",
      "> \r\n",
      "<?xml version=\"1.0\" encoding=\"UTF-8\"?><response>OK</response>\n"
     ]
    },
    {
     "data": {
      "text/plain": [
       "<Response [200]>"
      ]
     },
     "execution_count": 8,
     "metadata": {},
     "output_type": "execute_result"
    }
   ],
   "source": [
    "%%rest -v POST /api/user/login\n",
    "__RequestVerificationToken: $token\n",
    "\n",
    "<?xml version: \"1.0\" encoding=\"UTF-8\"?>\n",
    "    <request>\n",
    "        <Username>${username}</Username>\n",
    "        <Password>${password}</Password>\n",
    "        <password_type>4</password_type>\n",
    "    </request>"
   ]
  },
  {
   "cell_type": "code",
   "execution_count": 9,
   "metadata": {},
   "outputs": [],
   "source": [
    "r = _"
   ]
  },
  {
   "cell_type": "markdown",
   "metadata": {},
   "source": [
    "### Login endpoint returns a a bunch of tokens to use"
   ]
  },
  {
   "cell_type": "code",
   "execution_count": 10,
   "metadata": {},
   "outputs": [
    {
     "data": {
      "text/plain": [
       "'hg5BM6tps+th5Izq6WDLglLzb0NSRKMh#1JZqnOWj3dC6pp+9YB/ncOCJbJXGvpi7#DQufJyl4wgrGuEQNWmYM8mybypbiKY7g#nrDUvDqHRN+Fs+J+/487ZJbFYZdXMMvk#mrO5AGBmaT6q8M80ZHbLwsF11KEkgGdh#mGQ4eVNVF58yrCQB/a5cyyjqj0AXPdvL#qF28d0Mr4QmxHBbmIc2eYetdiW2NBJFl#pAw9tFNrGdL+k6gmg3Lp4jXeYFPcjcSc#7PGbHrb/kb+LL3BW48TxOsITURgfmt9l#0aaUlDksNku0pWqTYzkbeRnzNQJRsMqz#aENIosKeSTVC3cb89pEg/eVuA8H5h5ZH#YDrs55QSOmPjqc8GRp40t8pmd91JxVxH#GAUAhymo++ADCdl8JVdhOs+HbSQKlFAq#j1iNIqDMboby541Qo3AD9hGIm9vsOXQi#w2heSjgwrNkmaK8GC6U0SF2EVOtyWmLl#9IgCqd8b6PaIac3gxfRrcTJ44maCWcWm#JYib/4oA6MLMLRcUYAVqmYF5AxkJNev3#42a69lbLqT6tU3I5L2HZJyW0tdrhCXYc#/1NWh7e30aKr4xbB3iYEZ8mVKL61IyiK#L/wAKNJOlby/s5F2OefWxwn84/HkLabS#i1bjbub11S1HSeOx/yZThO6isduMjx0o#/85UG65so+49Fz32rWK30G2iKsBidW0Q#2CugWs/KKoKmHXHXjOhY4fzUS1N6yus8#keMr8u/phCa3Q2hRBDJpMbbEpex/05w1#qVoIa5aDThmvZO+SU8oepHFKGTacOokH#CtxWL9LRAUZ2c8DmGc+iIcMaTQvV3uzf#m1R++8ngoAeigdJiDM59dmZ0nf3RNhz1#7h+vC2HrpL0RO13mbY1QfISOG/8e6K9D#JHq2REF+apigGGCVOZ1VpEBftt4Ni6QU#SjIimGQFJmiubdb5D8R7pORrkEB2dY4q#ZkTwMIfDnmQdI+Z6/tequCSpFJMSlUlV#1fIL+GD9mU6wzGrjsEpn1U8j8RS2VoKY#'"
      ]
     },
     "execution_count": 10,
     "metadata": {},
     "output_type": "execute_result"
    }
   ],
   "source": [
    "r.headers['__RequestVerificationToken']"
   ]
  },
  {
   "cell_type": "markdown",
   "metadata": {},
   "source": [
    "### Each API call require a new token"
   ]
  },
  {
   "cell_type": "code",
   "execution_count": 11,
   "metadata": {},
   "outputs": [
    {
     "name": "stdout",
     "output_type": "stream",
     "text": [
      "Next token is: hg5BM6tps+th5Izq6WDLglLzb0NSRKMh\n"
     ]
    }
   ],
   "source": [
    "tokens = (t for t in filter(None, r.headers['__RequestVerificationToken'].split('#')))\n",
    "token = tokens.next()\n",
    "print(\"Next token is: \" + token)"
   ]
  },
  {
   "cell_type": "code",
   "execution_count": 18,
   "metadata": {},
   "outputs": [],
   "source": [
    "friend_phone = ''  # random phone number here "
   ]
  },
  {
   "cell_type": "code",
   "execution_count": 13,
   "metadata": {},
   "outputs": [
    {
     "data": {
      "text/html": [
       "<?xml version=\"1.0\" encoding=\"UTF-8\"?>\r\n",
       "<response>OK</response>\r\n"
      ],
      "text/plain": [
       "<IPython.core.display.HTML object>"
      ]
     },
     "metadata": {},
     "output_type": "display_data"
    },
    {
     "data": {
      "text/plain": [
       "<Response [200]>"
      ]
     },
     "execution_count": 13,
     "metadata": {},
     "output_type": "execute_result"
    }
   ],
   "source": [
    "%%rest POST /api/sms/send-sms\n",
    "__RequestVerificationToken: $token\n",
    "    \n",
    "<?xml version='1.0' encoding='UTF-8'?>\n",
    "    <request>\n",
    "        <Index>-1</Index>\n",
    "        <Phones><Phone>${friend_phone}</Phone></Phones>\n",
    "        <Sca></Sca>\n",
    "        <Content>Hello? Is there anybody in there?</Content>\n",
    "        <Length>-1</Length>\n",
    "        <Reserved>1</Reserved>\n",
    "        <Date>-1</Date>\n",
    "    </request>"
   ]
  },
  {
   "cell_type": "markdown",
   "metadata": {},
   "source": [
    "### SMS was sended, let's send more"
   ]
  },
  {
   "cell_type": "code",
   "execution_count": 14,
   "metadata": {},
   "outputs": [
    {
     "data": {
      "text/html": [
       "<?xml version=\"1.0\" encoding=\"UTF-8\"?>\r\n",
       "<error>\r\n",
       "<code>125003</code>\r\n",
       "<message></message>\r\n",
       "</error>\r\n"
      ],
      "text/plain": [
       "<IPython.core.display.HTML object>"
      ]
     },
     "metadata": {},
     "output_type": "display_data"
    },
    {
     "data": {
      "text/plain": [
       "<Response [200]>"
      ]
     },
     "execution_count": 14,
     "metadata": {},
     "output_type": "execute_result"
    }
   ],
   "source": [
    "%%rest POST /api/sms/send-sms\n",
    "__RequestVerificationToken: $token\n",
    "    \n",
    "<?xml version='1.0' encoding='UTF-8'?>\n",
    "    <request>\n",
    "        <Index>-1</Index>\n",
    "        <Phones><Phone>${friend_phone}</Phone></Phones>\n",
    "        <Sca></Sca>\n",
    "        <Content>Just nod if you can hear me.</Content>\n",
    "        <Length>-1</Length>\n",
    "        <Reserved>1</Reserved>\n",
    "        <Date>-1</Date>\n",
    "    </request>"
   ]
  },
  {
   "cell_type": "markdown",
   "metadata": {},
   "source": [
    "### `125003` error returned - SMS is not sended, need to use the next token"
   ]
  },
  {
   "cell_type": "code",
   "execution_count": 15,
   "metadata": {},
   "outputs": [
    {
     "name": "stdout",
     "output_type": "stream",
     "text": [
      "Next token is: 1JZqnOWj3dC6pp+9YB/ncOCJbJXGvpi7\n"
     ]
    }
   ],
   "source": [
    "token = tokens.next()\n",
    "print(\"Next token is: \" + token)"
   ]
  },
  {
   "cell_type": "code",
   "execution_count": 16,
   "metadata": {},
   "outputs": [
    {
     "data": {
      "text/html": [
       "<?xml version=\"1.0\" encoding=\"UTF-8\"?>\r\n",
       "<response>OK</response>\r\n"
      ],
      "text/plain": [
       "<IPython.core.display.HTML object>"
      ]
     },
     "metadata": {},
     "output_type": "display_data"
    },
    {
     "data": {
      "text/plain": [
       "<Response [200]>"
      ]
     },
     "execution_count": 16,
     "metadata": {},
     "output_type": "execute_result"
    }
   ],
   "source": [
    "%%rest POST /api/sms/send-sms\n",
    "__RequestVerificationToken: $token\n",
    "    \n",
    "<?xml version='1.0' encoding='UTF-8'?>\n",
    "    <request>\n",
    "        <Index>-1</Index>\n",
    "        <Phones><Phone>${friend_phone}</Phone></Phones>\n",
    "        <Sca></Sca>\n",
    "        <Content>Is there anyone at home?</Content>\n",
    "        <Length>-1</Length>\n",
    "        <Reserved>1</Reserved>\n",
    "        <Date>-1</Date>\n",
    "    </request>"
   ]
  }
 ],
 "metadata": {
  "kernelspec": {
   "display_name": "Python 3",
   "language": "python",
   "name": "python3"
  },
  "language_info": {
   "codemirror_mode": {
    "name": "ipython",
    "version": 3
   },
   "file_extension": ".py",
   "mimetype": "text/x-python",
   "name": "python",
   "nbconvert_exporter": "python",
   "pygments_lexer": "ipython3",
   "version": "3.6.5"
  }
 },
 "nbformat": 4,
 "nbformat_minor": 2
}
