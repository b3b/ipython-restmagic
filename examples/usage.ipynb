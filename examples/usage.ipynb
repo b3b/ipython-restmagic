{
 "cells": [
  {
   "cell_type": "markdown",
   "metadata": {},
   "source": [
    "# %rest usage example"
   ]
  },
  {
   "cell_type": "markdown",
   "metadata": {},
   "source": [
    "## Load"
   ]
  },
  {
   "cell_type": "code",
   "execution_count": 1,
   "metadata": {},
   "outputs": [],
   "source": [
    "%load_ext restmagic"
   ]
  },
  {
   "cell_type": "markdown",
   "metadata": {},
   "source": [
    "##  Line magic\n",
    "\n",
    "Arguments of the command are HTTP method and URL."
   ]
  },
  {
   "cell_type": "code",
   "execution_count": 2,
   "metadata": {},
   "outputs": [
    {
     "data": {
      "text/plain": [
       "{\n",
       "  \"slideshow\": {\n",
       "    \"author\": \"Yours Truly\",\n",
       "    \"date\": \"date of publication\",\n",
       "    \"slides\": [\n",
       "      {\n",
       "        \"title\": \"Wake up to WonderWidgets!\",\n",
       "        \"type\": \"all\"\n",
       "      },\n",
       "      {\n",
       "        \"items\": [\n",
       "          \"Why <em>WonderWidgets</em> are great\",\n",
       "          \"Who <em>buys</em> WonderWidgets\"\n",
       "        ],\n",
       "        \"title\": \"Overview\",\n",
       "        \"type\": \"all\"\n",
       "      }\n",
       "    ],\n",
       "    \"title\": \"Sample Slide Show\"\n",
       "  }\n",
       "}"
      ]
     },
     "metadata": {},
     "output_type": "display_data"
    }
   ],
   "source": [
    "result = %rest GET https://httpbin.org/json"
   ]
  },
  {
   "cell_type": "markdown",
   "metadata": {},
   "source": [
    "The comand output is a `Response` object of the `requests` library."
   ]
  },
  {
   "cell_type": "code",
   "execution_count": 3,
   "metadata": {},
   "outputs": [
    {
     "data": {
      "text/plain": [
       "requests.models.Response"
      ]
     },
     "execution_count": 3,
     "metadata": {},
     "output_type": "execute_result"
    }
   ],
   "source": [
    "type(result)"
   ]
  },
  {
   "cell_type": "code",
   "execution_count": 4,
   "metadata": {},
   "outputs": [
    {
     "data": {
      "text/plain": [
       "'Sample Slide Show'"
      ]
     },
     "execution_count": 4,
     "metadata": {},
     "output_type": "execute_result"
    }
   ],
   "source": [
    "result.json()['slideshow']['title']"
   ]
  },
  {
   "cell_type": "code",
   "execution_count": 5,
   "metadata": {},
   "outputs": [
    {
     "data": {
      "text/plain": [
       "{\n",
       "  \"user-agent\": \"python-requests/2.19.1\"\n",
       "}"
      ]
     },
     "metadata": {},
     "output_type": "display_data"
    }
   ],
   "source": [
    "ua_result = %rest GET http://httpbin.org/user-agent"
   ]
  },
  {
   "cell_type": "markdown",
   "metadata": {},
   "source": [
    "## Display options\n",
    "\n",
    "    --verbose, -v  Dump full HTTP session log.\n",
    "    --quiet, -q     Do not print HTTP request and response."
   ]
  },
  {
   "cell_type": "code",
   "execution_count": 6,
   "metadata": {},
   "outputs": [
    {
     "data": {
      "text/plain": [
       "<Response [200]>"
      ]
     },
     "execution_count": 6,
     "metadata": {},
     "output_type": "execute_result"
    }
   ],
   "source": [
    "%rest -q GET https://httpbin.org/json"
   ]
  },
  {
   "cell_type": "code",
   "execution_count": 7,
   "metadata": {},
   "outputs": [
    {
     "name": "stdout",
     "output_type": "stream",
     "text": [
      "< GET /json HTTP/1.1\r\n",
      "< Host: httpbin.org\r\n",
      "< User-Agent: python-requests/2.19.1\r\n",
      "< Accept-Encoding: gzip, deflate\r\n",
      "< Accept: */*\r\n",
      "< Connection: keep-alive\r\n",
      "< \r\n",
      "\r\n",
      "> HTTP/1.1 200 OK\r\n",
      "> Connection: keep-alive\r\n",
      "> Server: gunicorn/19.9.0\r\n",
      "> Date: Fri, 14 Sep 2018 08:54:48 GMT\r\n",
      "> Content-Type: application/json\r\n",
      "> Content-Length: 429\r\n",
      "> Access-Control-Allow-Origin: *\r\n",
      "> Access-Control-Allow-Credentials: true\r\n",
      "> Via: 1.1 vegur\r\n",
      "> \r\n",
      "{\n",
      "  \"slideshow\": {\n",
      "    \"author\": \"Yours Truly\", \n",
      "    \"date\": \"date of publication\", \n",
      "    \"slides\": [\n",
      "      {\n",
      "        \"title\": \"Wake up to WonderWidgets!\", \n",
      "        \"type\": \"all\"\n",
      "      }, \n",
      "      {\n",
      "        \"items\": [\n",
      "          \"Why <em>WonderWidgets</em> are great\", \n",
      "          \"Who <em>buys</em> WonderWidgets\"\n",
      "        ], \n",
      "        \"title\": \"Overview\", \n",
      "        \"type\": \"all\"\n",
      "      }\n",
      "    ], \n",
      "    \"title\": \"Sample Slide Show\"\n",
      "  }\n",
      "}\n",
      "\n"
     ]
    },
    {
     "data": {
      "text/plain": [
       "<Response [200]>"
      ]
     },
     "execution_count": 7,
     "metadata": {},
     "output_type": "execute_result"
    }
   ],
   "source": [
    "%rest -v GET https://httpbin.org/json"
   ]
  },
  {
   "cell_type": "markdown",
   "metadata": {},
   "source": [
    "## Short form\n",
    "\n",
    "Method and scheme could be omitted, `GET` and `https://` will be used in this case."
   ]
  },
  {
   "cell_type": "code",
   "execution_count": 8,
   "metadata": {},
   "outputs": [
    {
     "data": {
      "text/plain": [
       "<Response [200]>"
      ]
     },
     "execution_count": 8,
     "metadata": {},
     "output_type": "execute_result"
    }
   ],
   "source": [
    "%rest -q httpbin.org/json"
   ]
  },
  {
   "cell_type": "markdown",
   "metadata": {},
   "source": [
    "## Cell magic\n",
    "Input of the cell magic mimics the HTTP message format:\n",
    "* `request line`\n",
    "* `headers`\n",
    "* `empty line`\n",
    "* `message body`\n",
    "\n",
    "Headers and message body are optional.\n"
   ]
  },
  {
   "cell_type": "code",
   "execution_count": 9,
   "metadata": {},
   "outputs": [
    {
     "data": {
      "text/plain": [
       "{\n",
       "  \"args\": {},\n",
       "  \"data\": \"\",\n",
       "  \"files\": {},\n",
       "  \"form\": {\n",
       "    \"email\": \"crocodile@example.org\",\n",
       "    \"username\": \"Gena\"\n",
       "  },\n",
       "  \"headers\": {\n",
       "    \"Accept\": \"*/*\",\n",
       "    \"Accept-Encoding\": \"gzip, deflate\",\n",
       "    \"Connection\": \"close\",\n",
       "    \"Content-Length\": \"41\",\n",
       "    \"Content-Type\": \"application/x-www-form-urlencoded\",\n",
       "    \"Host\": \"httpbin.org\",\n",
       "    \"User-Agent\": \"python-requests/2.19.1\"\n",
       "  },\n",
       "  \"json\": null,\n",
       "  \"origin\": \"185.180.15.217\",\n",
       "  \"url\": \"https://httpbin.org/post\"\n",
       "}"
      ]
     },
     "metadata": {},
     "output_type": "display_data"
    },
    {
     "data": {
      "text/plain": [
       "<Response [200]>"
      ]
     },
     "execution_count": 9,
     "metadata": {},
     "output_type": "execute_result"
    }
   ],
   "source": [
    "%%rest\n",
    "POST https://httpbin.org/post\n",
    "Content-Type: application/x-www-form-urlencoded\n",
    "\n",
    "username=Gena&email=crocodile@example.org"
   ]
  },
  {
   "cell_type": "code",
   "execution_count": 10,
   "metadata": {},
   "outputs": [
    {
     "name": "stdout",
     "output_type": "stream",
     "text": [
      "< GET /user-agent HTTP/1.1\r\n",
      "< Host: httpbin.org\r\n",
      "< User-Agent: Mozilla/51.0.2 (X11; Unix x86_64; rv:29.0) Gecko/20170101 Firefox/51.0.2\r\n",
      "< Accept-Encoding: gzip, deflate\r\n",
      "< Accept: */*\r\n",
      "< Connection: keep-alive\r\n",
      "< \r\n",
      "\r\n",
      "> HTTP/1.1 200 OK\r\n",
      "> Connection: keep-alive\r\n",
      "> Server: gunicorn/19.9.0\r\n",
      "> Date: Fri, 14 Sep 2018 08:54:51 GMT\r\n",
      "> Content-Type: application/json\r\n",
      "> Content-Length: 95\r\n",
      "> Access-Control-Allow-Origin: *\r\n",
      "> Access-Control-Allow-Credentials: true\r\n",
      "> Via: 1.1 vegur\r\n",
      "> \r\n",
      "{\n",
      "  \"user-agent\": \"Mozilla/51.0.2 (X11; Unix x86_64; rv:29.0) Gecko/20170101 Firefox/51.0.2\"\n",
      "}\n",
      "\n"
     ]
    },
    {
     "data": {
      "text/plain": [
       "<Response [200]>"
      ]
     },
     "execution_count": 10,
     "metadata": {},
     "output_type": "execute_result"
    }
   ],
   "source": [
    "%%rest -v\n",
    "GET https://httpbin.org/user-agent\n",
    "User-Agent: Mozilla/51.0.2 (X11; Unix x86_64; rv:29.0) Gecko/20170101 Firefox/51.0.2"
   ]
  },
  {
   "cell_type": "markdown",
   "metadata": {},
   "source": [
    "### As with all commands, ouput(`Response` object) is available in `_` variable."
   ]
  },
  {
   "cell_type": "code",
   "execution_count": 11,
   "metadata": {},
   "outputs": [
    {
     "data": {
      "text/plain": [
       "<Response [200]>"
      ]
     },
     "execution_count": 11,
     "metadata": {},
     "output_type": "execute_result"
    }
   ],
   "source": [
    "%%rest -q\n",
    "POST https://httpbin.org/post\n",
    "Content-Type: multipart/form-data;boundary=\"myboundary\"\n",
    "\n",
    "--myboundary \n",
    "Content-Disposition: form-data; name=\"x\"\n",
    "\n",
    "value1\n",
    "--myboundary \n",
    "Content-Disposition: form-data; name=\"y\"\n",
    "\n",
    "value2\n",
    "--myboundary\n",
    "Content-Disposition: form-data; name=\"file\"; filename=\"test.txt\"\n",
    "Content-Type: application/octet-stream\n",
    "\n",
    "Here is a file content.\n",
    "--myboundary--"
   ]
  },
  {
   "cell_type": "code",
   "execution_count": 12,
   "metadata": {},
   "outputs": [
    {
     "name": "stdout",
     "output_type": "stream",
     "text": [
      "{'file': 'Here is a file content.'}\n",
      "{'x': 'value1', 'y': 'value2'}\n"
     ]
    }
   ],
   "source": [
    "print(_.json()['files'])\n",
    "print(_.json()['form'])"
   ]
  },
  {
   "cell_type": "markdown",
   "metadata": {},
   "source": [
    "## Variables\n",
    "\n",
    "Template strings `$`-based substitutions are supported.\n",
    "\n",
    "( https://docs.python.org/3/library/string.html#template-strings )"
   ]
  },
  {
   "cell_type": "code",
   "execution_count": 13,
   "metadata": {},
   "outputs": [],
   "source": [
    "httpbin='https://httpbin.org'\n",
    "value = 'TEST'"
   ]
  },
  {
   "cell_type": "code",
   "execution_count": 14,
   "metadata": {},
   "outputs": [
    {
     "data": {
      "text/plain": [
       "{\n",
       "  \"args\": {},\n",
       "  \"data\": \"{\\n    \\\"array here\\\": [\\n        \\\"TEST\\\",\\n        \\\"$ escaped: $value\\\"\\n    ]\\n}\",\n",
       "  \"files\": {},\n",
       "  \"form\": {},\n",
       "  \"headers\": {\n",
       "    \"Accept\": \"*/*\",\n",
       "    \"Accept-Encoding\": \"gzip, deflate\",\n",
       "    \"Connection\": \"close\",\n",
       "    \"Content-Length\": \"73\",\n",
       "    \"Content-Type\": \"application/json\",\n",
       "    \"Cookie\": \"a=TEST1;b=TEST2\",\n",
       "    \"Host\": \"httpbin.org\",\n",
       "    \"User-Agent\": \"python-requests/2.19.1\"\n",
       "  },\n",
       "  \"json\": {\n",
       "    \"array here\": [\n",
       "      \"TEST\",\n",
       "      \"$ escaped: $value\"\n",
       "    ]\n",
       "  },\n",
       "  \"origin\": \"185.180.15.217\",\n",
       "  \"url\": \"https://httpbin.org/post\"\n",
       "}"
      ]
     },
     "metadata": {},
     "output_type": "display_data"
    },
    {
     "data": {
      "text/plain": [
       "<Response [200]>"
      ]
     },
     "execution_count": 14,
     "metadata": {},
     "output_type": "execute_result"
    }
   ],
   "source": [
    "%%rest\n",
    "POST $httpbin/post\n",
    "Content-Type: application/json\n",
    "Cookie: a=${value}1;b=${value}2\n",
    "\n",
    "{\n",
    "    \"array here\": [\n",
    "        \"$value\",\n",
    "        \"$$ escaped: $$value\"\n",
    "    ]\n",
    "}"
   ]
  },
  {
   "cell_type": "markdown",
   "metadata": {},
   "source": [
    "One restriction, is that `${}` form could not be used in a first line of a query.\n",
    "\n",
    "This will work: `%rest -q $httpbin/get`,\n",
    "\n",
    "but this not: `%rest -q ${httpbin}/get`"
   ]
  },
  {
   "cell_type": "markdown",
   "metadata": {},
   "source": [
    "## Default values\n",
    "`%rest_root` allows to set values to be used by all subsequent requests:\n",
    "default HTTP method, first part of an URL, headers.\n",
    "\n",
    "The syntax is same as for `%rest`."
   ]
  },
  {
   "cell_type": "code",
   "execution_count": 15,
   "metadata": {},
   "outputs": [
    {
     "name": "stdout",
     "output_type": "stream",
     "text": [
      "Requests defaults are set.\n"
     ]
    }
   ],
   "source": [
    "%%rest_root httpbin.org\n",
    "Authorization: Bearer abcde\n",
    "User-Agent: restmagic-test"
   ]
  },
  {
   "cell_type": "code",
   "execution_count": 16,
   "metadata": {},
   "outputs": [
    {
     "name": "stdout",
     "output_type": "stream",
     "text": [
      "< GET /bearer HTTP/1.1\r\n",
      "< Host: httpbin.org\r\n",
      "< User-Agent: restmagic-test\r\n",
      "< Accept-Encoding: gzip, deflate\r\n",
      "< Accept: */*\r\n",
      "< Connection: keep-alive\r\n",
      "< Authorization: Bearer abcde\r\n",
      "< \r\n",
      "\r\n",
      "> HTTP/1.1 200 OK\r\n",
      "> Connection: keep-alive\r\n",
      "> Server: gunicorn/19.9.0\r\n",
      "> Date: Fri, 14 Sep 2018 08:54:54 GMT\r\n",
      "> Content-Type: application/json\r\n",
      "> Content-Length: 49\r\n",
      "> Access-Control-Allow-Origin: *\r\n",
      "> Access-Control-Allow-Credentials: true\r\n",
      "> Via: 1.1 vegur\r\n",
      "> \r\n",
      "{\n",
      "  \"authenticated\": true, \n",
      "  \"token\": \"abcde\"\n",
      "}\n",
      "\n"
     ]
    },
    {
     "data": {
      "text/plain": [
       "<Response [200]>"
      ]
     },
     "execution_count": 16,
     "metadata": {},
     "output_type": "execute_result"
    }
   ],
   "source": [
    "%rest -v /bearer"
   ]
  },
  {
   "cell_type": "markdown",
   "metadata": {},
   "source": [
    "When called without arguments, `%rest_root` clears default values."
   ]
  },
  {
   "cell_type": "code",
   "execution_count": 17,
   "metadata": {},
   "outputs": [
    {
     "name": "stdout",
     "output_type": "stream",
     "text": [
      "Requests defaults are canceled.\n"
     ]
    }
   ],
   "source": [
    "%rest_root"
   ]
  },
  {
   "cell_type": "code",
   "execution_count": 18,
   "metadata": {},
   "outputs": [
    {
     "name": "stdout",
     "output_type": "stream",
     "text": [
      "Requests defaults are set.\n"
     ]
    }
   ],
   "source": [
    "%rest_root httpbin.org"
   ]
  },
  {
   "cell_type": "markdown",
   "metadata": {},
   "source": [
    "## Sessions"
   ]
  },
  {
   "cell_type": "markdown",
   "metadata": {},
   "source": [
    "By default, new session is created for every `%rest` request.\n",
    "\n",
    "`%rest_session` allows to start a persistent session, to be used by all subsequent requests."
   ]
  },
  {
   "cell_type": "code",
   "execution_count": 19,
   "metadata": {},
   "outputs": [
    {
     "name": "stdout",
     "output_type": "stream",
     "text": [
      "New session started.\n"
     ]
    }
   ],
   "source": [
    "%rest_session"
   ]
  },
  {
   "cell_type": "code",
   "execution_count": 20,
   "metadata": {},
   "outputs": [
    {
     "data": {
      "text/plain": [
       "<Response [200]>"
      ]
     },
     "execution_count": 20,
     "metadata": {},
     "output_type": "execute_result"
    }
   ],
   "source": [
    "%rest -q /cookies/set/test/value"
   ]
  },
  {
   "cell_type": "code",
   "execution_count": 21,
   "metadata": {},
   "outputs": [
    {
     "name": "stdout",
     "output_type": "stream",
     "text": [
      "< GET /cookies HTTP/1.1\r\n",
      "< Host: httpbin.org\r\n",
      "< User-Agent: python-requests/2.19.1\r\n",
      "< Accept-Encoding: gzip, deflate\r\n",
      "< Accept: */*\r\n",
      "< Connection: keep-alive\r\n",
      "< Cookie: test=value\r\n",
      "< \r\n",
      "\r\n",
      "> HTTP/1.1 200 OK\r\n",
      "> Connection: keep-alive\r\n",
      "> Server: gunicorn/19.9.0\r\n",
      "> Date: Fri, 14 Sep 2018 08:54:56 GMT\r\n",
      "> Content-Type: application/json\r\n",
      "> Content-Length: 43\r\n",
      "> Access-Control-Allow-Origin: *\r\n",
      "> Access-Control-Allow-Credentials: true\r\n",
      "> Via: 1.1 vegur\r\n",
      "> \r\n",
      "{\n",
      "  \"cookies\": {\n",
      "    \"test\": \"value\"\n",
      "  }\n",
      "}\n",
      "\n"
     ]
    },
    {
     "data": {
      "text/plain": [
       "<Response [200]>"
      ]
     },
     "execution_count": 21,
     "metadata": {},
     "output_type": "execute_result"
    }
   ],
   "source": [
    "%rest -v /cookies"
   ]
  },
  {
   "cell_type": "markdown",
   "metadata": {},
   "source": [
    "`%rest-session` options:\n",
    "    \n",
    "    --end, -e  End the current the session, and do not start a new one."
   ]
  },
  {
   "cell_type": "code",
   "execution_count": 22,
   "metadata": {},
   "outputs": [
    {
     "name": "stdout",
     "output_type": "stream",
     "text": [
      "Session ended.\n"
     ]
    }
   ],
   "source": [
    "%rest_session -e"
   ]
  },
  {
   "cell_type": "markdown",
   "metadata": {},
   "source": [
    "##  Pretty display\n",
    "\n",
    "Beware, %rest tries to display response in a most pretty way. Very insecure behavior."
   ]
  },
  {
   "cell_type": "code",
   "execution_count": 24,
   "metadata": {},
   "outputs": [
    {
     "data": {
      "text/html": [
       "<!DOCTYPE html>\n",
       "<html>\n",
       "  <head>\n",
       "  </head>\n",
       "  <body>\n",
       "      <h1>Herman Melville - Moby-Dick</h1>\n",
       "\n",
       "      <div>\n",
       "        <p>\n",
       "          Availing himself of the mild, summer-cool weather that now reigned in these latitudes, and in preparation for the peculiarly active pursuits shortly to be anticipated, Perth, the begrimed, blistered old blacksmith, had not removed his portable forge to the hold again, after concluding his contributory work for Ahab's leg, but still retained it on deck, fast lashed to ringbolts by the foremast; being now almost incessantly invoked by the headsmen, and harpooneers, and bowsmen to do some little job for them; altering, or repairing, or new shaping their various weapons and boat furniture. Often he would be surrounded by an eager circle, all waiting to be served; holding boat-spades, pike-heads, harpoons, and lances, and jealously watching his every sooty movement, as he toiled. Nevertheless, this old man's was a patient hammer wielded by a patient arm. No murmur, no impatience, no petulance did come from him. Silent, slow, and solemn; bowing over still further his chronically broken back, he toiled away, as if toil were life itself, and the heavy beating of his hammer the heavy beating of his heart. And so it was.—Most miserable! A peculiar walk in this old man, a certain slight but painful appearing yawing in his gait, had at an early period of the voyage excited the curiosity of the mariners. And to the importunity of their persisted questionings he had finally given in; and so it came to pass that every one now knew the shameful story of his wretched fate. Belated, and not innocently, one bitter winter's midnight, on the road running between two country towns, the blacksmith half-stupidly felt the deadly numbness stealing over him, and sought refuge in a leaning, dilapidated barn. The issue was, the loss of the extremities of both feet. Out of this revelation, part by part, at last came out the four acts of the gladness, and the one long, and as yet uncatastrophied fifth act of the grief of his life's drama. He was an old man, who, at the age of nearly sixty, had postponedly encountered that thing in sorrow's technicals called ruin. He had been an artisan of famed excellence, and with plenty to do; owned a house and garden; embraced a youthful, daughter-like, loving wife, and three blithe, ruddy children; every Sunday went to a cheerful-looking church, planted in a grove. But one night, under cover of darkness, and further concealed in a most cunning disguisement, a desperate burglar slid into his happy home, and robbed them all of everything. And darker yet to tell, the blacksmith himself did ignorantly conduct this burglar into his family's heart. It was the Bottle Conjuror! Upon the opening of that fatal cork, forth flew the fiend, and shrivelled up his home. Now, for prudent, most wise, and economic reasons, the blacksmith's shop was in the basement of his dwelling, but with a separate entrance to it; so that always had the young and loving healthy wife listened with no unhappy nervousness, but with vigorous pleasure, to the stout ringing of her young-armed old husband's hammer; whose reverberations, muffled by passing through the floors and walls, came up to her, not unsweetly, in her nursery; and so, to stout Labor's iron lullaby, the blacksmith's infants were rocked to slumber. Oh, woe on woe! Oh, Death, why canst thou not sometimes be timely? Hadst thou taken this old blacksmith to thyself ere his full ruin came upon him, then had the young widow had a delicious grief, and her orphans a truly venerable, legendary sire to dream of in their after years; and all of them a care-killing competency.\n",
       "        </p>\n",
       "      </div>\n",
       "  </body>\n",
       "</html>"
      ],
      "text/plain": [
       "<IPython.core.display.HTML object>"
      ]
     },
     "metadata": {},
     "output_type": "display_data"
    },
    {
     "data": {
      "text/plain": [
       "<Response [200]>"
      ]
     },
     "execution_count": 24,
     "metadata": {},
     "output_type": "execute_result"
    }
   ],
   "source": [
    "%rest /html"
   ]
  },
  {
   "cell_type": "code",
   "execution_count": 25,
   "metadata": {},
   "outputs": [
    {
     "data": {
      "image/png": "[encoded data removed]",
      "text/plain": [
       "<IPython.core.display.Image object>"
      ]
     },
     "metadata": {},
     "output_type": "display_data"
    },
    {
     "data": {
      "text/plain": [
       "<Response [200]>"
      ]
     },
     "execution_count": 25,
     "metadata": {},
     "output_type": "execute_result"
    }
   ],
   "source": [
    "%%rest /image\n",
    "Accept: image/png"
   ]
  }
 ],
 "metadata": {
  "kernelspec": {
   "display_name": "Python 3",
   "language": "python",
   "name": "python3"
  },
  "language_info": {
   "codemirror_mode": {
    "name": "ipython",
    "version": 3
   },
   "file_extension": ".py",
   "mimetype": "text/x-python",
   "name": "python",
   "nbconvert_exporter": "python",
   "pygments_lexer": "ipython3",
   "version": "3.6.5"
  }
 },
 "nbformat": 4,
 "nbformat_minor": 2
}
