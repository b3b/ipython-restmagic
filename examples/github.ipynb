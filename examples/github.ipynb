{
 "cells": [
  {
   "cell_type": "markdown",
   "metadata": {},
   "source": [
    "# GitHub API usage example"
   ]
  },
  {
   "cell_type": "code",
   "execution_count": 1,
   "metadata": {},
   "outputs": [],
   "source": [
    "import pandas as pd\n",
    "%load_ext restmagic"
   ]
  },
  {
   "cell_type": "markdown",
   "metadata": {},
   "source": [
    "Some calls require personal API token: https://blog.github.com/2013-05-16-personal-api-tokens/"
   ]
  },
  {
   "cell_type": "code",
   "execution_count": 10,
   "metadata": {},
   "outputs": [],
   "source": [
    "token = ''"
   ]
  },
  {
   "cell_type": "code",
   "execution_count": 3,
   "metadata": {},
   "outputs": [
    {
     "name": "stdout",
     "output_type": "stream",
     "text": [
      "Requests defaults are set.\n"
     ]
    }
   ],
   "source": [
    "%%rest_root https://api.github.com\n",
    "Accept: application/vnd.github.v3+json\n",
    "Authorization: Token $token"
   ]
  },
  {
   "cell_type": "markdown",
   "metadata": {},
   "source": [
    "## Get top 10 forked projects from the GitHub, for the \"ipython\" query"
   ]
  },
  {
   "cell_type": "code",
   "execution_count": 4,
   "metadata": {},
   "outputs": [
    {
     "data": {
      "text/html": [
       "<div>\n",
       "<style scoped>\n",
       "    .dataframe tbody tr th:only-of-type {\n",
       "        vertical-align: middle;\n",
       "    }\n",
       "\n",
       "    .dataframe tbody tr th {\n",
       "        vertical-align: top;\n",
       "    }\n",
       "\n",
       "    .dataframe thead th {\n",
       "        text-align: right;\n",
       "    }\n",
       "</style>\n",
       "<table border=\"1\" class=\"dataframe\">\n",
       "  <thead>\n",
       "    <tr style=\"text-align: right;\">\n",
       "      <th></th>\n",
       "      <th>forks_count</th>\n",
       "      <th>watchers</th>\n",
       "    </tr>\n",
       "    <tr>\n",
       "      <th>full_name</th>\n",
       "      <th></th>\n",
       "      <th></th>\n",
       "    </tr>\n",
       "  </thead>\n",
       "  <tbody>\n",
       "    <tr>\n",
       "      <th>wesm/pydata-book</th>\n",
       "      <td>6052</td>\n",
       "      <td>6585</td>\n",
       "    </tr>\n",
       "    <tr>\n",
       "      <th>donnemartin/data-science-ipython-notebooks</th>\n",
       "      <td>4047</td>\n",
       "      <td>13738</td>\n",
       "    </tr>\n",
       "    <tr>\n",
       "      <th>ipython/ipython</th>\n",
       "      <td>3643</td>\n",
       "      <td>13004</td>\n",
       "    </tr>\n",
       "    <tr>\n",
       "      <th>jrjohansson/scientific-python-lectures</th>\n",
       "      <td>1319</td>\n",
       "      <td>2256</td>\n",
       "    </tr>\n",
       "    <tr>\n",
       "      <th>jdwittenauer/ipython-notebooks</th>\n",
       "      <td>1086</td>\n",
       "      <td>1935</td>\n",
       "    </tr>\n",
       "    <tr>\n",
       "      <th>jupyterhub/jupyterhub</th>\n",
       "      <td>827</td>\n",
       "      <td>3631</td>\n",
       "    </tr>\n",
       "    <tr>\n",
       "      <th>PipelineAI/pipeline</th>\n",
       "      <td>775</td>\n",
       "      <td>2950</td>\n",
       "    </tr>\n",
       "    <tr>\n",
       "      <th>powerline/powerline</th>\n",
       "      <td>741</td>\n",
       "      <td>9322</td>\n",
       "    </tr>\n",
       "    <tr>\n",
       "      <th>ogrisel/parallel_ml_tutorial</th>\n",
       "      <td>571</td>\n",
       "      <td>1444</td>\n",
       "    </tr>\n",
       "    <tr>\n",
       "      <th>jadianes/spark-py-notebooks</th>\n",
       "      <td>570</td>\n",
       "      <td>832</td>\n",
       "    </tr>\n",
       "  </tbody>\n",
       "</table>\n",
       "</div>"
      ],
      "text/plain": [
       "                                            forks_count  watchers\n",
       "full_name                                                        \n",
       "wesm/pydata-book                                   6052      6585\n",
       "donnemartin/data-science-ipython-notebooks         4047     13738\n",
       "ipython/ipython                                    3643     13004\n",
       "jrjohansson/scientific-python-lectures             1319      2256\n",
       "jdwittenauer/ipython-notebooks                     1086      1935\n",
       "jupyterhub/jupyterhub                               827      3631\n",
       "PipelineAI/pipeline                                 775      2950\n",
       "powerline/powerline                                 741      9322\n",
       "ogrisel/parallel_ml_tutorial                        571      1444\n",
       "jadianes/spark-py-notebooks                         570       832"
      ]
     },
     "execution_count": 4,
     "metadata": {},
     "output_type": "execute_result"
    }
   ],
   "source": [
    "r = %rest -q search/repositories?q=ipython&sort=forks&per_page=10\n",
    "df = pd.DataFrame(r.json()['items'], columns=('full_name', 'forks_count', 'watchers'))\n",
    "df.set_index('full_name', inplace=True)\n",
    "df"
   ]
  },
  {
   "cell_type": "code",
   "execution_count": 9,
   "metadata": {},
   "outputs": [
    {
     "data": {
      "text/plain": [
       "<matplotlib.axes._subplots.AxesSubplot at 0x7fa2b0a0a8d0>"
      ]
     },
     "execution_count": 9,
     "metadata": {},
     "output_type": "execute_result"
    },
    {
     "data": {
      "image/png": "[encoded data removed]",
      "text/plain": [
       "<Figure size 432x288 with 1 Axes>"
      ]
     },
     "metadata": {
      "needs_background": "light"
     },
     "output_type": "display_data"
    }
   ],
   "source": [
    "df.plot(kind='barh')"
   ]
  },
  {
   "cell_type": "markdown",
   "metadata": {
    "hideCode": true
   },
   "source": [
    "## Follow Github User\n",
    "Personal API token is required to perform the call: https://blog.github.com/2013-05-16-personal-api-tokens/"
   ]
  },
  {
   "cell_type": "code",
   "execution_count": 6,
   "metadata": {},
   "outputs": [
    {
     "data": {
      "text/plain": [
       "<Response [204]>"
      ]
     },
     "execution_count": 6,
     "metadata": {},
     "output_type": "execute_result"
    }
   ],
   "source": [
    "%rest PUT user/following/gvanrossum"
   ]
  },
  {
   "cell_type": "markdown",
   "metadata": {},
   "source": [
    "### Unfollow GitHub user"
   ]
  },
  {
   "cell_type": "code",
   "execution_count": 7,
   "metadata": {},
   "outputs": [
    {
     "data": {
      "text/plain": [
       "<Response [204]>"
      ]
     },
     "execution_count": 7,
     "metadata": {},
     "output_type": "execute_result"
    }
   ],
   "source": [
    "%rest -q DELETE user/following/gvanrossum"
   ]
  },
  {
   "cell_type": "markdown",
   "metadata": {
    "hideCode": true
   },
   "source": [
    "## Search GitHub for \"pritn\" string in Python code"
   ]
  },
  {
   "cell_type": "code",
   "execution_count": 8,
   "metadata": {},
   "outputs": [
    {
     "name": "stdout",
     "output_type": "stream",
     "text": [
      "https://github.com/Ramieltje/octotelegram/blob/a5a15408ce586c6defdcbd54a6fae7195deb38dd/CS1301%20exercises/Hello%20world.py\n",
      "https://github.com/abdallah-ali-abdallah/Simply-Raspberry-Pi-Book/blob/6f273337b76ba8083abf74cd9652ad187896392c/Attachments/1-%20Python%20Examples%20(Source%20Codes)/4-1%20Motion%20Detector.py\n",
      "https://github.com/runei/IA/blob/77fa1e103162e67b7823ca1ea4dbed396afb3a88/trabDCG.py\n",
      "https://github.com/infixsrf/Trash/blob/4d0493cdad38e48f3f63a9ef95877fa52df7bd4c/programmer.py\n",
      "https://github.com/lxxcumt/learnpython/blob/b63b01b31c283962576cd0dc2d55ee97e9f48d13/ex25.py\n",
      "https://github.com/CHTramp/Git-/blob/90e8339a52a571c88d2b6e68e9475593c846517f/Python%E8%AF%BE%E7%A8%8B%E4%BB%A3%E7%A0%81/%E8%AF%BE%E7%A8%8B%E5%AD%A6%E4%B9%A0%E4%BB%A3%E7%A0%81/day6-%E5%87%BD%E6%95%B0%E6%93%8D%E4%BD%9C/%E5%87%BD%E6%95%B0%E7%AC%AC%E4%BA%8C%E9%83%A8%E5%88%86%E7%9A%84homework.py\n",
      "https://github.com/deepnighttwo/deepnighttwo/blob/baeee505d1d48a92adaff874552c0db08f32e6bb/myutilities/workpy/parseasindetailshead/parseasindetailsheadline.py\n",
      "https://github.com/MHM18/hm18/blob/cee7c3220c76c4046ee6ba23c3c8459fa21fc485/hmpro/zhangxiyang/import_file2.py\n",
      "https://github.com/Alex1996a/ML/blob/a5c79631d0d7058669949814c4300ee53224e6f6/RL/treaser_on_right.py\n",
      "https://github.com/MHM18/hm18/blob/cee7c3220c76c4046ee6ba23c3c8459fa21fc485/hmpro/zhangxiyang/test4.py\n",
      "https://github.com/MHM18/hm18/blob/cee7c3220c76c4046ee6ba23c3c8459fa21fc485/hmpro/zhangxiyang/test5.py\n",
      "https://github.com/MHM18/hm18/blob/cee7c3220c76c4046ee6ba23c3c8459fa21fc485/hmpro/zhangxiyang/dictionary/import_file/import_file5.py\n",
      "https://github.com/shenxiangzhuang/PythonDataAnalysis/blob/3c096c86836c479e2ac305d09c8fa9aa04303825/Ch2Data/DataIO/Mpymysql/Mbase.py\n",
      "https://github.com/ktomczuk/pythonbootcamp/blob/87d9be61b773d9b9b53e4087294765555a67f216/z3/2.py\n",
      "https://github.com/MHM18/hm18/blob/cee7c3220c76c4046ee6ba23c3c8459fa21fc485/hmpro/zhangxiyang/dictionary/import_file/import_file3.py\n",
      "https://github.com/jjnguy/PublicFun/blob/c4538a3aba8e0ed4e91286b408c47b2d079c69a1/coms362_Project/src/ID3Tag.py\n",
      "https://github.com/chenxizhan/docs/blob/310d8bbdd8163605e486bfcc69a9de28b60604ff/doc-root/python/samples/ch8.py\n",
      "https://github.com/ali225/Python-Examples-Source-Codes-With-Raspberry-PI-project/blob/bd1c5d060e360223770f072c40515e990390e532/4-1%20Motion%20Detector.py\n",
      "https://github.com/tyouei/python_deepi/blob/d0af7fe4ced51c433790dd4600a04beb1be72a92/base/python_cpitalize.py\n",
      "https://github.com/yucefsourani/taalam-kotob/blob/fb235e300f309d3ef574889ce767a1786aa39f10/raspberry_pi/Attachments/1-%20Python%20Examples%20(Source%20Codes)/4-1%20Motion%20Detector.py\n",
      "https://github.com/ncarkaci/Ag-ve-Bilgi-Guvenligi-Ders-Notlari/blob/bd074c1b93b3ea07058f371f607ad827245fb838/3.%20Ders%20Python/lecture6.py\n",
      "https://github.com/Subashini06/SUBA/blob/9ef1062d6529fb1ab8b2e7a017bcda2d5d64c661/printingnxtnum.py\n",
      "https://github.com/TakiyaHideto/python/blob/adae181a4bd9535c0c9a0277239f83ec065c2bc7/ele.me/CountScoreFresh.py\n",
      "https://github.com/svatozde/DDW-HW4/blob/8ec82b068a5ad69269a08da1b4ece5889615c2a2/HW4.py\n",
      "https://github.com/nolsen97/cs1113/blob/b1f1d397509871a74a26283239cb5fd9c0468c1e/hello.py\n",
      "https://github.com/ruuuu/massenger_gb/blob/efa4635d5c4995f0da3a461c77cc4ee3a413b2a9/First.py\n",
      "https://github.com/BowenH98/test/blob/fbf1f3f4c7d723aaa173a1ec550d595e48064d77/Assigment_1_final_version.py\n",
      "https://github.com/trossossp3/Python/blob/67fd60dd2d2cbde6b06d8befc6ea5896a17470b0/DMOJ/hello.py\n",
      "https://github.com/GIHUNKIM/impython/blob/9c72e7bcc458abb9ae315bb49268741882f17b05/PythonApplication17/PythonApplication17/PythonApplication17.py\n",
      "https://github.com/cbaikuntha/Safi1/blob/b8e92a2246256e497d394f3dedb364b528ebbd0c/f_Safi.py\n",
      "== 30 of total 672 ==\n"
     ]
    }
   ],
   "source": [
    "r = %rest -q search/code?q=pritn+in:file+language:python\n",
    "data = r.json()\n",
    "urls = [i['html_url'] for i in data['items']]\n",
    "print('\\n'.join(urls))\n",
    "print(\"== {0} of total {1} ==\".format(len(urls), data['total_count']))"
   ]
  }
 ],
 "metadata": {
  "kernelspec": {
   "display_name": "Python 3",
   "language": "python",
   "name": "python3"
  },
  "language_info": {
   "codemirror_mode": {
    "name": "ipython",
    "version": 3
   },
   "file_extension": ".py",
   "mimetype": "text/x-python",
   "name": "python",
   "nbconvert_exporter": "python",
   "pygments_lexer": "ipython3",
   "version": "3.6.5"
  }
 },
 "nbformat": 4,
 "nbformat_minor": 2
}
